{
  "cells": [
    {
      "cell_type": "code",
      "execution_count": 43,
      "metadata": {
        "id": "NhJAyftBc3iH"
      },
      "outputs": [],
      "source": [
        "# Sep 17 ,2023\n",
        "# CSC461 – Assignment1 – Web Scraping\n",
        "# Muhammad Haris Ali\n",
        "# Question 02\n",
        "import requests\n",
        "import time\n",
        "from bs4 import BeautifulSoup"
      ]
    },
    {
      "cell_type": "code",
      "execution_count": 44,
      "metadata": {
        "id": "3w2K-kBNdXt6"
      },
      "outputs": [],
      "source": [
        "birthurl=\"https://www.timeanddate.com/on-this-day/\""
      ]
    },
    {
      "cell_type": "code",
      "execution_count": 45,
      "metadata": {
        "id": "8N6zk28Qg1t0"
      },
      "outputs": [],
      "source": [
        "response = requests.get(birthurl)\n",
        "if response.status_code == 200:\n",
        "    a = BeautifulSoup(response.text , 'html5lib')\n",
        "    name = a.find_all('ul' ,attrs={'class' : 'list--big'})"
      ]
    },
    {
      "cell_type": "code",
      "execution_count": 65,
      "metadata": {
        "id": "_L4MBIFQhZE4"
      },
      "outputs": [],
      "source": [
        "file_name1 = \"data.txt\"\n",
        "with open(file_name1 , 'w') as file:\n",
        "  for i in name[1]:\n",
        "    file.write(f\"{i.h3.text }\\n\")"
      ]
    },
    {
      "cell_type": "code",
      "execution_count": 21,
      "metadata": {
        "id": "UFfakyRuhbX3"
      },
      "outputs": [],
      "source": [
        "file=requests.get(\"https://www.britannica.com/on-this-day/May-25\")"
      ]
    },
    {
      "cell_type": "code",
      "execution_count": 23,
      "metadata": {
        "colab": {
          "base_uri": "https://localhost:8080/"
        },
        "id": "LrLd6dcDE-f6",
        "outputId": "fa3d33db-6f84-433b-8f77-8d3786cd2080"
      },
      "outputs": [
        {
          "data": {
            "text/plain": [
              "<Response [200]>"
            ]
          },
          "execution_count": 23,
          "metadata": {},
          "output_type": "execute_result"
        }
      ],
      "source": [
        "file"
      ]
    },
    {
      "cell_type": "code",
      "execution_count": 24,
      "metadata": {
        "id": "cbXOIuCpFEwV"
      },
      "outputs": [],
      "source": [
        "s=BeautifulSoup(file.text,\"html5lib\")"
      ]
    },
    {
      "cell_type": "code",
      "execution_count": 28,
      "metadata": {
        "id": "YSyMtAErFPqo"
      },
      "outputs": [],
      "source": [
        "ab= s.find('div',{'class':\"description font-serif\"})"
      ]
    },
    {
      "cell_type": "code",
      "execution_count": 29,
      "metadata": {
        "colab": {
          "base_uri": "https://localhost:8080/",
          "height": 87
        },
        "id": "Jc-6ZUAnFu36",
        "outputId": "9202aee8-153c-44bf-f53f-8b257269d445"
      },
      "outputs": [
        {
          "data": {
            "application/vnd.google.colaboratory.intrinsic+json": {
              "type": "string"
            },
            "text/plain": [
              "'On this day in 1787, the Constitutional Convention opened in Philadelphia, where 55 state delegates, initially charged with amending the Articles of Confederation, later drafted the Constitution of the United States. Take our quiz about the history of the U.S. Constitution'"
            ]
          },
          "execution_count": 29,
          "metadata": {},
          "output_type": "execute_result"
        }
      ],
      "source": [
        "ab.text"
      ]
    },
    {
      "cell_type": "code",
      "execution_count": 30,
      "metadata": {
        "id": "CXf8BpmyF339"
      },
      "outputs": [],
      "source": [
        "FILE2=open(\"Question2.txt\",\"w\")"
      ]
    },
    {
      "cell_type": "code",
      "execution_count": 31,
      "metadata": {
        "colab": {
          "base_uri": "https://localhost:8080/"
        },
        "id": "rCL0vt3QIySO",
        "outputId": "f2e5d87b-9dd7-4735-e198-2658c9c14672"
      },
      "outputs": [
        {
          "data": {
            "text/plain": [
              "273"
            ]
          },
          "execution_count": 31,
          "metadata": {},
          "output_type": "execute_result"
        }
      ],
      "source": [
        "FILE2.write(ab.text)"
      ]
    },
    {
      "cell_type": "code",
      "execution_count": 32,
      "metadata": {
        "id": "kCIq4PsfI5dh"
      },
      "outputs": [],
      "source": [
        "FILE2.close()"
      ]
    },
    {
      "cell_type": "code",
      "execution_count": 36,
      "metadata": {
        "id": "AhBCQFQHJClv"
      },
      "outputs": [],
      "source": [
        "date=s.find_all('div',{'class':\"card-body font-serif\"})"
      ]
    },
    {
      "cell_type": "code",
      "execution_count": 57,
      "metadata": {
        "id": "zY2NS8oFNG7X"
      },
      "outputs": [],
      "source": [
        "array=[]\n",
        "for i in date:\n",
        "  array.append(i.text.strip())"
      ]
    },
    {
      "cell_type": "code",
      "execution_count": 59,
      "metadata": {
        "colab": {
          "base_uri": "https://localhost:8080/",
          "height": 104
        },
        "id": "CiPTAAkWNozo",
        "outputId": "84f5eb94-08e1-4c62-9817-dfc1e74802a7"
      },
      "outputs": [
        {
          "data": {
            "application/vnd.google.colaboratory.intrinsic+json": {
              "type": "string"
            },
            "text/plain": [
              "'George Floyd, an unarmed African American man, was killed during an arrest in Minneapolis, Minnesota, setting off massive protests around the country and generating greater support for the Black Lives Matter movement; police officer Derek Chauvin was later convicted of his murder. What inspired the formation of the Black Lives Matter movement?Maddie Meyer/Getty Images News'"
            ]
          },
          "execution_count": 59,
          "metadata": {},
          "output_type": "execute_result"
        }
      ],
      "source": []
    },
    {
      "cell_type": "code",
      "execution_count": 66,
      "metadata": {
        "id": "-YNbBxWDJoMK"
      },
      "outputs": [],
      "source": [
        "with open(file_name1 , 'a') as file:\n",
        "  for i in array:\n",
        "    file.write(i+\"\\n\")"
      ]
    },
    {
      "cell_type": "code",
      "execution_count": null,
      "metadata": {
        "id": "Dj7mjad5JphX"
      },
      "outputs": [],
      "source": []
    }
  ],
  "metadata": {
    "colab": {
      "provenance": []
    },
    "kernelspec": {
      "display_name": "Python 3",
      "name": "python3"
    },
    "language_info": {
      "name": "python"
    }
  },
  "nbformat": 4,
  "nbformat_minor": 0
}
